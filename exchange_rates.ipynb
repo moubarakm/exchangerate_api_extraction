{
 "cells": [
  {
   "cell_type": "markdown",
   "id": "2bdd1df8",
   "metadata": {},
   "source": [
    "# Libraries"
   ]
  },
  {
   "cell_type": "code",
   "execution_count": 1,
   "id": "32144cba",
   "metadata": {},
   "outputs": [],
   "source": [
    "import requests\n",
    "from datetime import date, timedelta\n",
    "import logging\n",
    "import matplotlib.pyplot as plt"
   ]
  },
  {
   "cell_type": "markdown",
   "id": "1c33dcd2",
   "metadata": {},
   "source": [
    "# Set up logging"
   ]
  },
  {
   "cell_type": "code",
   "execution_count": 2,
   "id": "cb8174a4",
   "metadata": {},
   "outputs": [],
   "source": [
    "# Configure logging\n",
    "logging.basicConfig(level=logging.INFO)\n",
    "\n",
    "# Suppress matplotlib info messages\n",
    "logging.getLogger('matplotlib').setLevel(logging.WARNING)"
   ]
  },
  {
   "cell_type": "markdown",
   "id": "b9d61a22",
   "metadata": {},
   "source": [
    "# Functions"
   ]
  },
  {
   "cell_type": "code",
   "execution_count": 3,
   "id": "1b4865e4",
   "metadata": {},
   "outputs": [],
   "source": [
    "def fetch_exchange_rate_for_date(base_url, date_str, params):\n",
    "    \"\"\"\n",
    "    Description: fetches exchange rate data for a specific date.\n",
    "    base_url: url to passed into GET request.\n",
    "    date_str: a date with a string data type to in the format 'YYYY-MM-DD'.\n",
    "    params: query parametres to passed ino the GET request.\n",
    "    \"\"\"\n",
    "    # Append date to historical endpoint url\n",
    "    url = f\"{base_url}{date_str}\"\n",
    "    try:\n",
    "        response = requests.get(url, params=params)\n",
    "        response.raise_for_status()  # Raise an error for bad status codes\n",
    "        \n",
    "        data = response.json()\n",
    "        \n",
    "        # Check if expected keys are present. If they are, extract required data\n",
    "        if 'date' in data and 'rates' in data:\n",
    "            return {\n",
    "                'date': data['date'],\n",
    "                'rates': data['rates']\n",
    "            }\n",
    "        else:\n",
    "            logging.error(f\"Missing expected data keys for {date_str}: {data}\")\n",
    "    except requests.exceptions.RequestException as e:\n",
    "        logging.error(f\"Request failed for {date_str}: {e}\")\n",
    "        return None\n",
    "    return None\n",
    "\n",
    "def get_past_exchange_data(base_currency='AUD', target_currency='NZD', days=30):\n",
    "    \"\"\"\n",
    "    Description: retrieves the last `days` worth of exchange rate data from current date.\n",
    "    base_currency: currency converting from.\n",
    "    target_currency: currency converting to.\n",
    "    days: integer specifying the number days from current date to fetch exchange rate data. \n",
    "    \"\"\"\n",
    "\n",
    "    # Ensure that arguements are of the correct data type before proceeding.\n",
    "    if not isinstance(base_currency, str):\n",
    "        raise TypeError(f\"base_currency must be a string, but got {type(base_currency).__name__}\")\n",
    "    if not isinstance(target_currency, str):\n",
    "        raise TypeError(f\"target_currency must be a string, but got {type(target_currency).__name__}\")\n",
    "    if not isinstance(days, int):\n",
    "        raise TypeError(f\"days must be an integer, but got {type(days).__name__}\")\n",
    "\n",
    "    base_url = 'https://api.exchangeratesapi.io/v1/'\n",
    "    params = {\n",
    "        'access_key': '59b7b82249656f7c7a51f9d9cc13a3eb', #ideally, access key would be stored in a key vault.\n",
    "        'base': base_currency,\n",
    "        'symbols': target_currency\n",
    "    }\n",
    "    \n",
    "    # Set today's date\n",
    "    end_date = date.today()\n",
    "\n",
    "    # Calculate the date x number of days ago (x = days)\n",
    "    start_date = end_date - timedelta(days=days-1)  # Adjust for inclusive range\n",
    "\n",
    "    #Initialize a list to store responses\n",
    "    response_list = []\n",
    "\n",
    "    current_date = start_date\n",
    "\n",
    "    while current_date <= end_date:\n",
    "        # Converts date object into string\n",
    "        date_str = current_date.isoformat()\n",
    "\n",
    "        # Fetch data\n",
    "        exchange_rate_data = fetch_exchange_rate_for_date(base_url, date_str, params)\n",
    "\n",
    "        if exchange_rate_data: # Check if data was retrieved \n",
    "            response_list.append(exchange_rate_data)\n",
    "        \n",
    "        current_date += timedelta(days=1)\n",
    "    \n",
    "    return response_list\n",
    "\n",
    "def find_best_and_worst_rates(exchange_data):\n",
    "    \"\"\"\n",
    "    Description: Finds the best (highest) and worst (lowest) exchange rates in the provided data.\n",
    "    exchange_data: a list of dictionaries containing exchange rate info. To be used with get_past_exchange_data() output.\n",
    "    \"\"\"\n",
    "    # Check if exchange_data is empty.\n",
    "    if not exchange_data:\n",
    "        return None, None\n",
    "    \n",
    "    # Initialize variables to track extremes.\n",
    "    best_rate = float('-inf') # Ensures any exchange rate encoutered during iteration will be greater than negative infinity, allowing it to be updated\n",
    "    worst_rate = float('inf') # Ensures any exchange rate encoutered during iteration will be less than positive infinity, allowing it to be updated\n",
    "    best_date = None\n",
    "    worst_date = None\n",
    "\n",
    "    # Perform iteration to get best and worst rates and the respective dates they occured on.\n",
    "    for entry in exchange_data:\n",
    "        date = entry['date']\n",
    "        rate = entry['rates']['NZD']\n",
    "        \n",
    "        if rate > best_rate:\n",
    "            best_rate = rate\n",
    "            best_date = date\n",
    "        \n",
    "        if rate < worst_rate:\n",
    "            worst_rate = rate\n",
    "            worst_date = date\n",
    "    \n",
    "    return {'date': best_date, 'rate': best_rate}, {'date': worst_date, 'rate': worst_rate}\n",
    "\n",
    "def calculate_average_rate(exchange_data):\n",
    "    \"\"\"\n",
    "    Calculates the average exchange rate for the provided data.\n",
    "    exchange_data: a list of dictionaries containing exchange rate info. To be used with get_past_exchange_data() output.\n",
    "    \"\"\"\n",
    "    # Check if exchange_data is empty.\n",
    "    if not exchange_data:\n",
    "        return None\n",
    "    \n",
    "    total_rate = 0\n",
    "    count = 0\n",
    "    \n",
    "    for entry in exchange_data:\n",
    "        rate = entry['rates']['NZD']\n",
    "        total_rate += rate\n",
    "        count += 1\n",
    "    \n",
    "    average_rate = total_rate / count\n",
    "    return average_rate\n",
    "\n",
    "def plot_exchange_rates(exchange_data):\n",
    "    \"\"\"\n",
    "    Description: plots the exchange rate data and highlights the best and worst rates.\n",
    "    exchange_data: a list of dictionaries containing exchange rate info. To be used with get_past_exchange_data() output.\n",
    "    \"\"\"\n",
    "    dates = [entry['date'] for entry in exchange_data]\n",
    "    rates = [entry['rates']['NZD'] for entry in exchange_data]\n",
    "\n",
    "    best_rate, worst_rate = find_best_and_worst_rates(exchange_data)\n",
    "\n",
    "    plt.figure(figsize=(13, 7))\n",
    "    plt.plot(dates, rates, label='Exchange Rate', marker='o')\n",
    "\n",
    "    if best_rate:\n",
    "        plt.plot(best_rate['date'], best_rate['rate'], 'go', label='Best Rate')\n",
    "        plt.text(best_rate['date'], best_rate['rate'], f\"Best: {best_rate['rate']}\", fontsize=9, ha='right')\n",
    "\n",
    "    if worst_rate:\n",
    "        plt.plot(worst_rate['date'], worst_rate['rate'], 'ro', label='Worst Rate')\n",
    "        plt.text(worst_rate['date'], worst_rate['rate'], f\"Worst: {worst_rate['rate']}\", fontsize=9, ha='right')\n",
    "\n",
    "    plt.xlabel('Date')\n",
    "    plt.ylabel('Exchange Rate (AUD-NZD)')\n",
    "    plt.title('AUD-NZD exchange Rate over Time')\n",
    "    plt.legend()\n",
    "    plt.xticks(rotation=45)\n",
    "    plt.tight_layout()\n",
    "    plt.show()\n",
    "\n",
    "def main():\n",
    "\n",
    "    # Call the function to fetch the past exchange rate data\n",
    "    data = get_past_exchange_data()\n",
    "    \n",
    "    # Find the best and worst exchange rates\n",
    "    best_rate, worst_rate = find_best_and_worst_rates(data)\n",
    "    print(f\"Best rate: {best_rate}\")\n",
    "    print(f\"Worst rate: {worst_rate}\")\n",
    "\n",
    "    # Calculate the average exchange rate\n",
    "    average_rate = calculate_average_rate(data)\n",
    "    print(f\"Average rate: {average_rate}\")\n",
    "\n",
    "    # Plot exchange rate data\n",
    "    plot_exchange_rates(data)\n",
    "    "
   ]
  },
  {
   "cell_type": "markdown",
   "id": "dcc4ac21",
   "metadata": {},
   "source": [
    "# Output"
   ]
  },
  {
   "cell_type": "code",
   "execution_count": 4,
   "id": "2c46f545",
   "metadata": {},
   "outputs": [
    {
     "data": {
      "text/plain": [
       "[{'date': '2024-06-01', 'rates': {'NZD': 1.083895}},\n",
       " {'date': '2024-06-02', 'rates': {'NZD': 1.082492}},\n",
       " {'date': '2024-06-03', 'rates': {'NZD': 1.080211}},\n",
       " {'date': '2024-06-04', 'rates': {'NZD': 1.076407}},\n",
       " {'date': '2024-06-05', 'rates': {'NZD': 1.074255}},\n",
       " {'date': '2024-06-06', 'rates': {'NZD': 1.07631}},\n",
       " {'date': '2024-06-07', 'rates': {'NZD': 1.074866}},\n",
       " {'date': '2024-06-08', 'rates': {'NZD': 1.07895}},\n",
       " {'date': '2024-06-09', 'rates': {'NZD': 1.07808}},\n",
       " {'date': '2024-06-10', 'rates': {'NZD': 1.078204}},\n",
       " {'date': '2024-06-11', 'rates': {'NZD': 1.075373}},\n",
       " {'date': '2024-06-12', 'rates': {'NZD': 1.077024}},\n",
       " {'date': '2024-06-13', 'rates': {'NZD': 1.076672}},\n",
       " {'date': '2024-06-14', 'rates': {'NZD': 1.075134}},\n",
       " {'date': '2024-06-15', 'rates': {'NZD': 1.073361}},\n",
       " {'date': '2024-06-16', 'rates': {'NZD': 1.077516}},\n",
       " {'date': '2024-06-17', 'rates': {'NZD': 1.079063}},\n",
       " {'date': '2024-06-18', 'rates': {'NZD': 1.084816}},\n",
       " {'date': '2024-06-19', 'rates': {'NZD': 1.087336}},\n",
       " {'date': '2024-06-20', 'rates': {'NZD': 1.087845}},\n",
       " {'date': '2024-06-21', 'rates': {'NZD': 1.08981}},\n",
       " {'date': '2024-06-22', 'rates': {'NZD': 1.091934}},\n",
       " {'date': '2024-06-23', 'rates': {'NZD': 1.08548}},\n",
       " {'date': '2024-06-24', 'rates': {'NZD': 1.087334}},\n",
       " {'date': '2024-06-25', 'rates': {'NZD': 1.085985}},\n",
       " {'date': '2024-06-26', 'rates': {'NZD': 1.092889}},\n",
       " {'date': '2024-06-27', 'rates': {'NZD': 1.09314}},\n",
       " {'date': '2024-06-28', 'rates': {'NZD': 1.097649}},\n",
       " {'date': '2024-06-29', 'rates': {'NZD': 1.097649}},\n",
       " {'date': '2024-06-30', 'rates': {'NZD': 1.098744}}]"
      ]
     },
     "execution_count": 4,
     "metadata": {},
     "output_type": "execute_result"
    }
   ],
   "source": [
    "# Call the function to fetch the past exchange rate data\n",
    "data = get_past_exchange_data()\n",
    "\n",
    "# Preview retrieved data \n",
    "data"
   ]
  },
  {
   "cell_type": "code",
   "execution_count": 5,
   "id": "b6b82295",
   "metadata": {},
   "outputs": [
    {
     "name": "stdout",
     "output_type": "stream",
     "text": [
      "Best rate: {'date': '2024-06-30', 'rate': 1.098744}\n",
      "Worst rate: {'date': '2024-06-15', 'rate': 1.073361}\n",
      "Average rate: 1.0832808\n"
     ]
    },
    {
     "data": {
      "image/png": "[encoded data removed]",
      "text/plain": [
       "<Figure size 936x504 with 1 Axes>"
      ]
     },
     "metadata": {
      "needs_background": "light"
     },
     "output_type": "display_data"
    }
   ],
   "source": [
    "if __name__ == \"__main__\":\n",
    "    main()"
   ]
  }
 ],
 "metadata": {
  "kernelspec": {
   "display_name": "Python 3 (ipykernel)",
   "language": "python",
   "name": "python3"
  },
  "language_info": {
   "codemirror_mode": {
    "name": "ipython",
    "version": 3
   },
   "file_extension": ".py",
   "mimetype": "text/x-python",
   "name": "python",
   "nbconvert_exporter": "python",
   "pygments_lexer": "ipython3",
   "version": "3.9.12"
  }
 },
 "nbformat": 4,
 "nbformat_minor": 5
}
